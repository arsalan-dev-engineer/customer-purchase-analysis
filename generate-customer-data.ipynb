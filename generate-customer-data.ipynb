{
 "cells": [
  {
   "cell_type": "markdown",
   "id": "49056b8c-a025-4f83-b848-9a220102e00c",
   "metadata": {},
   "source": [
    "**Customer Purchases Data**\n",
    "\n",
    "Dataset Columns:\n",
    "* Customer ID\n",
    "* First Name\n",
    "* Last Name\n",
    "* Email Address\n",
    "* Phone Number\n",
    "* Product ID\n",
    "* Purchase Date\n",
    "* Quantity\n",
    "* Price per Item\n",
    "* Total Purchase Value\n",
    "* Discount Applied (Yes/No)\n",
    "\n",
    "Features:\n",
    "* Simulate random customer purchases for a store.\n",
    "* Calculate total purchase value based on quantity and price per item.\n",
    "* Apply random discounts to simulate promotional offers.\n",
    "\n",
    "Manipulation Ideas:\n",
    "* Visualize total purchases per customer over time.\n",
    "* Calculate the total revenue and average purchase value.\n",
    "* Identify frequent shoppers (customers who purchase often).\n",
    "* Compare sales with and without discounts."
   ]
  },
  {
   "cell_type": "code",
   "execution_count": 54,
   "id": "fd3f7809-755b-48c4-abfd-fdda977f2b89",
   "metadata": {},
   "outputs": [],
   "source": [
    "# import required libraries\n",
    "import pandas as pd\n",
    "from faker import Faker\n",
    "import datetime\n",
    "import numpy as np"
   ]
  },
  {
   "cell_type": "code",
   "execution_count": 70,
   "id": "e84f1719-5f48-4e3d-aa1c-b93a73aadf75",
   "metadata": {},
   "outputs": [],
   "source": [
    "# create faker object\n",
    "fake = Faker()\n",
    "\n",
    "# list of project categories\n",
    "product_categories = [\n",
    "    \"Groceries\",\n",
    "    \"Clothing & Apparel\",\n",
    "    \"Electronics\",\n",
    "    \"Home & Kitchen\",\n",
    "    \"Sports & Outdoors\",\n",
    "    \"Office Supplies\",\n",
    "    \"Automotive\",\n",
    "    \"Video Games & Consoles\"\n",
    "]\n",
    "\n",
    "\n",
    "# function to determine quantitiy based on product category\n",
    "def get_quantity_by_category(category):\n",
    "    if category == \"Groceries\":\n",
    "        return np.random.randint(1, 10)\n",
    "    elif category == \"Clothing & Apparel\":\n",
    "        return np.random.randint(1, 5)\n",
    "    else:\n",
    "        return np.random.randint(1, 3)\n",
    "\n",
    "\n",
    "# Function to determine price based on product category\n",
    "def get_price_by_category(category):\n",
    "    if category == \"Groceries\":\n",
    "        return round(np.random.uniform(1, 50), 2)\n",
    "    elif category == \"Clothing & Apparel\":\n",
    "        return round(np.random.uniform(20, 200), 2)\n",
    "    elif category == \"Electronics\":\n",
    "        return round(np.random.uniform(50, 1000), 2)\n",
    "    elif category == \"Home & Kitchen\":\n",
    "        return round(np.random.uniform(20, 500), 2)\n",
    "    elif category == \"Sports & Outdoors\":\n",
    "        return round(np.random.uniform(20, 300), 2)\n",
    "    elif category == \"Office Supplies\":\n",
    "        return round(np.random.uniform(5, 100), 2)\n",
    "    elif category == \"Automotive\":\n",
    "        return round(np.random.uniform(30, 1000), 2)\n",
    "    elif category == \"Video Games & Consoles\":\n",
    "        return round(np.random.uniform(10, 500), 2)\n",
    "    else:\n",
    "        # default price range for any unspecified category\n",
    "        return round(np.random.uniform(1, 50), 2)\n"
   ]
  },
  {
   "cell_type": "code",
   "execution_count": 71,
   "id": "85df3293-50a8-4a12-8f61-8d845596a5e5",
   "metadata": {},
   "outputs": [],
   "source": [
    "# generate the data\n",
    "data = {\n",
    "    \"Customer ID\": [f\"CT{np.random.randint(0, 9999999):07d}\" for ci in range(300)],\n",
    "    \"First Name\": [fake.first_name() for fn in range(300)],\n",
    "    \"Last Name\": [fake.last_name() for ln in range(300)],\n",
    "    \"Contact Number\": [f\"+447{np.random.randint(0, 999999999):09d}\" for cn in range(300)],\n",
    "    \"Product ID\": [f\"PR{np.random.randint(0, 999999):06d}\" for pi in range(300)],\n",
    "    \"Purchase Date\": [fake.date_this_century() for p in range(300)],\n",
    "    \"Quantity Purchased\": [\n",
    "        get_quantity_by_category(np.random.choice(product_categories)) for qp in range(300)\n",
    "    ],\n",
    "    \"Price Per Item £\": [\n",
    "        get_price_by_category(np.random.choice(product_categories)) for ppi in range(300)\n",
    "    ]\n",
    "}"
   ]
  },
  {
   "cell_type": "code",
   "execution_count": 72,
   "id": "5b612d9f-8abd-4fc1-9ec0-43bab9eb94da",
   "metadata": {},
   "outputs": [],
   "source": [
    "# convert data into pandas dataframe\n",
    "df = pd.DataFrame(data)"
   ]
  },
  {
   "cell_type": "code",
   "execution_count": 73,
   "id": "26a8d410-ed00-4576-a2e6-39525337a3a5",
   "metadata": {},
   "outputs": [
    {
     "name": "stdout",
     "output_type": "stream",
     "text": [
      "  Customer ID First Name  Last Name Contact Number Product ID Purchase Date  \\\n",
      "0   CT4149598    Timothy     Garcia  +447993402637   PR350808    2017-10-05   \n",
      "1   CT2677864      Kathy     Morton  +447519059848   PR037274    2010-08-28   \n",
      "2   CT1439671    Kenneth    Johnson  +447045984332   PR766177    2024-03-29   \n",
      "3   CT2439695      David       West  +447475428077   PR081892    2016-12-12   \n",
      "4   CT6158489      Diana    Russell  +447368380545   PR551203    2008-06-07   \n",
      "5   CT8531957    Crystal   Odonnell  +447672503752   PR818735    2020-03-06   \n",
      "6   CT6577092     Curtis     Malone  +447635806411   PR986683    2009-07-02   \n",
      "7   CT8023840       Beth  Armstrong  +447026684678   PR225749    2004-04-05   \n",
      "8   CT0051805    Jessica         Wu  +447912937021   PR029945    2016-10-08   \n",
      "9   CT5017697       Sara  Rodriguez  +447823104339   PR980094    2001-12-26   \n",
      "\n",
      "   Quantity Purchased  Price Per Item £  \n",
      "0                   1             30.71  \n",
      "1                   1            101.36  \n",
      "2                   2            198.03  \n",
      "3                   5            252.44  \n",
      "4                   1            163.58  \n",
      "5                   2            153.41  \n",
      "6                   1            499.92  \n",
      "7                   2              6.81  \n",
      "8                   2            170.72  \n",
      "9                   2            196.76  \n"
     ]
    }
   ],
   "source": [
    "# display the first 10 rows\n",
    "print(df.head(10))"
   ]
  },
  {
   "cell_type": "code",
   "execution_count": null,
   "id": "fd40b393-9e45-4742-aaeb-2bc749ed3d7d",
   "metadata": {},
   "outputs": [],
   "source": []
  },
  {
   "cell_type": "code",
   "execution_count": null,
   "id": "2fc1638f-b0ee-470d-997c-444ee3637fa1",
   "metadata": {},
   "outputs": [],
   "source": []
  }
 ],
 "metadata": {
  "kernelspec": {
   "display_name": "Python 3 (ipykernel)",
   "language": "python",
   "name": "python3"
  },
  "language_info": {
   "codemirror_mode": {
    "name": "ipython",
    "version": 3
   },
   "file_extension": ".py",
   "mimetype": "text/x-python",
   "name": "python",
   "nbconvert_exporter": "python",
   "pygments_lexer": "ipython3",
   "version": "3.10.12"
  }
 },
 "nbformat": 4,
 "nbformat_minor": 5
}
